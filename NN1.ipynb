{
  "nbformat": 4,
  "nbformat_minor": 0,
  "metadata": {
    "colab": {
      "name": "NN1",
      "provenance": [],
      "authorship_tag": "ABX9TyNNXx9Sk1Mskgb55SIqMLxR",
      "include_colab_link": true
    },
    "kernelspec": {
      "name": "python3",
      "display_name": "Python 3"
    }
  },
  "cells": [
    {
      "cell_type": "markdown",
      "metadata": {
        "id": "view-in-github",
        "colab_type": "text"
      },
      "source": [
        "<a href=\"https://colab.research.google.com/github/flowergum/NN/blob/task2_1/NN1.ipynb\" target=\"_parent\"><img src=\"https://colab.research.google.com/assets/colab-badge.svg\" alt=\"Open In Colab\"/></a>"
      ]
    },
    {
      "cell_type": "code",
      "metadata": {
        "id": "DZTtCeRhqanD",
        "colab_type": "code",
        "colab": {
          "base_uri": "https://localhost:8080/",
          "height": 545
        },
        "outputId": "40662180-bbe3-4a6f-9db3-f947159a9bcb"
      },
      "source": [
        "\n",
        "\n",
        "import numpy as np\n",
        "import tensorflow as tf\n",
        "mnist = tf.keras.datasets.mnist\n",
        "import matplotlib.pyplot as plt\n",
        "(x_train, y_train),(x_test, y_test) = mnist.load_data()\n",
        "\n",
        "\n",
        "x_train, x_test = x_train, x_test\n",
        "x_train.shape\n",
        "plt.title(y_train[10])\n",
        "plt.imshow(x_train[10], cmap=plt.get_cmap('gray_r'))\n",
        "plt.show()\n",
        "\n",
        "\n",
        "def display_digit(num):\n",
        "    label = y_train[num]\n",
        "    image = x_train[num]\n",
        "    plt.title('Example: {}  Label: {}'.format(num, label))\n",
        "    plt.imshow(image, cmap=plt.get_cmap('gray_r'))\n",
        "    plt.show()\n",
        "\n",
        "\n",
        "display_digit(2918)\n",
        "model = tf.keras.models.Sequential([\n",
        "                                    tf.keras.layers.Flatten(input_shape=(28, 28)),\n",
        "                                    tf.keras.layers.Dense(100, activation=tf.nn.relu),\n",
        "                                    tf.keras.layers.Dropout(0.2),\n",
        "                                    tf.keras.layers.Dense(10, activation=tf.nn.softmax)\n",
        "])\n",
        "\n",
        "\n",
        "model.compile(optimizer=tf.keras.optimizers.Adam(learning_rate=0.001),\n",
        "              loss=tf.keras.losses.sparse_categorical_crossentropy,\n",
        "              metrics=['accuracy'])\n",
        "\n",
        "\n"
      ],
      "execution_count": 51,
      "outputs": [
        {
          "output_type": "display_data",
          "data": {
            "image/png": "[encoded data removed]",
            "text/plain": [
              "<Figure size 432x288 with 1 Axes>"
            ]
          },
          "metadata": {
            "tags": [],
            "needs_background": "light"
          }
        },
        {
          "output_type": "display_data",
          "data": {
            "image/png": "[encoded data removed]",
            "text/plain": [
              "<Figure size 432x288 with 1 Axes>"
            ]
          },
          "metadata": {
            "tags": [],
            "needs_background": "light"
          }
        }
      ]
    },
    {
      "cell_type": "code",
      "metadata": {
        "id": "WHVLb88q_8jy",
        "colab_type": "code",
        "colab": {
          "base_uri": "https://localhost:8080/",
          "height": 204
        },
        "outputId": "4b74769e-febc-4588-e19e-9b257729f22d"
      },
      "source": [
        "model.fit(x_train, y_train, epochs=5)"
      ],
      "execution_count": 52,
      "outputs": [
        {
          "output_type": "stream",
          "text": [
            "Epoch 1/5\n",
            "1875/1875 [==============================] - 4s 2ms/step - loss: 2.4432 - accuracy: 0.7318\n",
            "Epoch 2/5\n",
            "1875/1875 [==============================] - 4s 2ms/step - loss: 0.6503 - accuracy: 0.8225\n",
            "Epoch 3/5\n",
            "1875/1875 [==============================] - 4s 2ms/step - loss: 0.5348 - accuracy: 0.8555\n",
            "Epoch 4/5\n",
            "1875/1875 [==============================] - 4s 2ms/step - loss: 0.4603 - accuracy: 0.8738\n",
            "Epoch 5/5\n",
            "1875/1875 [==============================] - 4s 2ms/step - loss: 0.4291 - accuracy: 0.8866\n"
          ],
          "name": "stdout"
        },
        {
          "output_type": "execute_result",
          "data": {
            "text/plain": [
              "<tensorflow.python.keras.callbacks.History at 0x7f242a1d0e48>"
            ]
          },
          "metadata": {
            "tags": []
          },
          "execution_count": 52
        }
      ]
    },
    {
      "cell_type": "code",
      "metadata": {
        "id": "etvFHk7l7PtW",
        "colab_type": "code",
        "colab": {
          "base_uri": "https://localhost:8080/",
          "height": 207
        },
        "outputId": "cc67e725-ba3a-4812-a20d-2061968f7700"
      },
      "source": [
        "loss, acc = model.evaluate(x_test, y_test)\n",
        "print(\"Loss = {}, accuracy = {}\".format(loss, acc))\n",
        "loss, acc = model.evaluate(x_train, y_train)\n",
        "print(\"Loss = {}, accuracy = {}\".format(loss, acc))\n",
        "predictions = model.predict(x_test[0:1,:,:])\n",
        "print(predictions)\n",
        "print(y_test[0])\n",
        "\n",
        "model.evaluate(x_test, y_test)\n",
        "#model.summary()"
      ],
      "execution_count": 53,
      "outputs": [
        {
          "output_type": "stream",
          "text": [
            "313/313 [==============================] - 0s 1ms/step - loss: 0.2743 - accuracy: 0.9337\n",
            "Loss = 0.2742536962032318, accuracy = 0.9337000250816345\n",
            "1875/1875 [==============================] - 3s 2ms/step - loss: 0.2259 - accuracy: 0.9395\n",
            "Loss = 0.22589656710624695, accuracy = 0.9394500255584717\n",
            "WARNING:tensorflow:7 out of the last 11 calls to <function Model.make_predict_function.<locals>.predict_function at 0x7f241ab85bf8> triggered tf.function retracing. Tracing is expensive and the excessive number of tracings could be due to (1) creating @tf.function repeatedly in a loop, (2) passing tensors with different shapes, (3) passing Python objects instead of tensors. For (1), please define your @tf.function outside of the loop. For (2), @tf.function has experimental_relax_shapes=True option that relaxes argument shapes that can avoid unnecessary retracing. For (3), please refer to https://www.tensorflow.org/tutorials/customization/performance#python_or_tensor_args and https://www.tensorflow.org/api_docs/python/tf/function for  more details.\n",
            "[[0.0000000e+00 7.1331712e-23 7.4341242e-30 3.2917163e-17 0.0000000e+00\n",
            "  8.6289368e-37 0.0000000e+00 1.0000000e+00 2.7772846e-36 1.6381789e-27]]\n",
            "7\n",
            "313/313 [==============================] - 0s 1ms/step - loss: 0.2743 - accuracy: 0.9337\n"
          ],
          "name": "stdout"
        },
        {
          "output_type": "execute_result",
          "data": {
            "text/plain": [
              "[0.2742536962032318, 0.9337000250816345]"
            ]
          },
          "metadata": {
            "tags": []
          },
          "execution_count": 53
        }
      ]
    }
  ]
}