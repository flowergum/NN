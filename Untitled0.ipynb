{
  "nbformat": 4,
  "nbformat_minor": 0,
  "metadata": {
    "colab": {
      "name": "Untitled0.ipynb",
      "provenance": [],
      "authorship_tag": "ABX9TyPEXpPG98KHPcSp6yzZWnqt",
      "include_colab_link": true
    },
    "kernelspec": {
      "name": "python3",
      "display_name": "Python 3"
    }
  },
  "cells": [
    {
      "cell_type": "markdown",
      "metadata": {
        "id": "view-in-github",
        "colab_type": "text"
      },
      "source": [
        "<a href=\"https://colab.research.google.com/github/flowergum/NN/blob/master/Untitled0.ipynb\" target=\"_parent\"><img src=\"https://colab.research.google.com/assets/colab-badge.svg\" alt=\"Open In Colab\"/></a>"
      ]
    },
    {
      "cell_type": "code",
      "metadata": {
        "id": "clpf_948t76e"
      },
      "source": [
        "import tensorflow as tf\n",
        "import matplotlib.pyplot as plt\n",
        "import numpy as np"
      ],
      "execution_count": null,
      "outputs": []
    },
    {
      "cell_type": "code",
      "metadata": {
        "id": "GywXgZz_uFxd"
      },
      "source": [
        "mnist = tf.keras.datasets.mnist\n",
        "(x_train, y_train),(x_test, y_test) = mnist.load_data()\n",
        "x_train, x_test = x_train/255., x_test/255."
      ],
      "execution_count": null,
      "outputs": []
    },
    {
      "cell_type": "code",
      "metadata": {
        "id": "pgUIgr-DuM9h"
      },
      "source": [
        "def display_digit(num, x, y, vector = None):\n",
        "    label = y[num]\n",
        "    image = x[num]\n",
        "    if vector is None:\n",
        "        plt.title('Example: {}  Label: {}'.format(num, label))\n",
        "        plt.imshow(image, cmap=plt.get_cmap('gray_r'))\n",
        "    else:\n",
        "        plt.figure(figsize=(6,3))\n",
        "        plt.subplot(1,2,1)\n",
        "        plt.title('Real label: {}'.format(label))\n",
        "        plt.imshow(image, cmap=plt.get_cmap('gray_r'))\n",
        "        plt.subplot(1,2,2)\n",
        "        thisplot = plt.bar(range(10), vector, color=\"#777777\")\n",
        "        plt.ylim([0, 1]) \n",
        "        plt.xticks([])\n",
        "        plt.yticks([])\n",
        "        predicted_label = np.argmax(vector)\n",
        "        thisplot[predicted_label].set_color('red')\n",
        "        plt.title('Predicted label: {}'.format(predicted_label))\n",
        "    plt.show()"
      ],
      "execution_count": null,
      "outputs": []
    },
    {
      "cell_type": "code",
      "metadata": {
        "id": "JOy3vsdduZ8y"
      },
      "source": [
        "display_digit(20, x_train, y_train)"
      ],
      "execution_count": null,
      "outputs": []
    },
    {
      "cell_type": "code",
      "metadata": {
        "id": "OGzvqKhwuf1A"
      },
      "source": [
        "#Сеть 1\n",
        "model = tf.keras.models.Sequential([\n",
        "  tf.keras.layers.Flatten(input_shape=(28, 28)),\n",
        "  tf.keras.layers.Dropout(0.2),\n",
        "  tf.keras.layers.Dense(100, activation=tf.nn.relu),\n",
        "  tf.keras.layers.Dropout(0.2),\n",
        "  tf.keras.layers.Dense(10, activation=tf.nn.softmax)\n",
        "])\n",
        "model.compile(optimizer=tf.keras.optimizers.Adam(learning_rate=0.005),\n",
        "              loss=tf.keras.losses.sparse_categorical_crossentropy,\n",
        "              metrics=['accuracy'])\n",
        "history = model.fit(x_train, y_train, epochs=50, validation_data=(x_test, y_test))"
      ],
      "execution_count": null,
      "outputs": []
    },
    {
      "cell_type": "code",
      "metadata": {
        "id": "GxKMf5Ea3a4H"
      },
      "source": [
        "#Сеть 2\n",
        "model_overlearn = tf.keras.models.Sequential([\n",
        "  tf.keras.layers.Flatten(input_shape=(28, 28)),\n",
        "  #tf.keras.layers.Dropout(0.2),\n",
        "  tf.keras.layers.Dense(50, activation=tf.nn.relu),\n",
        "  #tf.keras.layers.Dropout(0.2),\n",
        "  tf.keras.layers.Dense(10, activation=tf.nn.softmax)\n",
        "])\n",
        "model_overlearn.compile(optimizer=tf.keras.optimizers.Adam(learning_rate=0.005),\n",
        "              loss=tf.keras.losses.sparse_categorical_crossentropy,\n",
        "              metrics=['accuracy'])\n",
        "history_overlearn = model_overlearn.fit(x_train, y_train, epochs=50, validation_data=(x_test, y_test))"
      ],
      "execution_count": null,
      "outputs": []
    },
    {
      "cell_type": "code",
      "metadata": {
        "id": "45rBaNUzugwf"
      },
      "source": [
        "plt.figure(figsize=(16,10))\n",
        "plt.xlabel('Epochs')\n",
        "plt.ylabel(\"Sparse_categorical_crossentropy\")\n",
        "val = plt.plot(history.epoch, history.history['val_loss'],\n",
        "                   '--', label='Val normal')\n",
        "plt.plot(history.epoch, history.history[\"loss\"], color=val[0].get_color(),\n",
        "             label='Train normal')\n",
        "val_overlearn = plt.plot(history_overlearn.epoch, history_overlearn.history['val_loss'],\n",
        "                   '--', label='Val overlearn')\n",
        "plt.plot(history_overlearn.epoch, history_overlearn.history[\"loss\"], color=val_overlearn[0].get_color(),\n",
        "             label='Train overlearn')\n",
        "plt.legend()\n",
        "plt.xlim([0,max(history_overlearn.epoch)])\n",
        "plt.show() #Здесь, получается, еще без dropout"
      ],
      "execution_count": null,
      "outputs": []
    },
    {
      "cell_type": "code",
      "metadata": {
        "id": "OuSq5_Hq-WK5"
      },
      "source": [
        "plt.figure(figsize=(16,10))\n",
        "plt.xlabel('Epochs')\n",
        "plt.ylabel(\"Sparse_categorical_crossentropy\")\n",
        "val = plt.plot(history.epoch, history.history['val_loss'],\n",
        "                   '--', label='Val normal')\n",
        "plt.plot(history.epoch, history.history[\"loss\"], color=val[0].get_color(),\n",
        "             label='Train normal')\n",
        "val_overlearn = plt.plot(history_overlearn.epoch, history_overlearn.history['val_loss'],\n",
        "                   '--', label='Val overlearn')\n",
        "plt.plot(history_overlearn.epoch, history_overlearn.history[\"loss\"], color=val_overlearn[0].get_color(),\n",
        "             label='Train overlearn')\n",
        "plt.legend()\n",
        "plt.xlim([0,max(history_overlearn.epoch)])\n",
        "plt.show() #С dropout"
      ],
      "execution_count": null,
      "outputs": []
    },
    {
      "cell_type": "code",
      "metadata": {
        "id": "Gb4SgO-kullh"
      },
      "source": [
        "for i in range(10):\n",
        "    display_digit(i,x_test,y_test,model(x_test[i:i+1,:,:])[0])"
      ],
      "execution_count": null,
      "outputs": []
    }
  ]
}